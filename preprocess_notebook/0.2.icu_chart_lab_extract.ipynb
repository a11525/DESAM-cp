{
 "cells": [
  {
   "cell_type": "code",
   "execution_count": 1,
   "metadata": {},
   "outputs": [],
   "source": [
    "import numpy as np\n",
    "import pandas as pd\n",
    "import os\n",
    "import datetime\n",
    "import sys\n",
    "import tqdm\n"
   ]
  },
  {
   "cell_type": "code",
   "execution_count": 7,
   "metadata": {},
   "outputs": [],
   "source": [
    "mimic_path = '/ssd1/mimic3' # please use your mimic3 folder\n",
    "save_path = '../data'"
   ]
  },
  {
   "cell_type": "code",
   "execution_count": 3,
   "metadata": {},
   "outputs": [],
   "source": [
    "using_feature = [ 'ICUSTAYS', 'CHARTEVENTS','LABEVENTS']\n",
    "data_dict ={}\n",
    "for file in using_feature:\n",
    "    temp_name = file +'.csv'\n",
    "    \n",
    "    data_dict[file.lower()] = pd.read_csv(mimic_path+'/'+temp_name, low_memory=False)"
   ]
  },
  {
   "cell_type": "code",
   "execution_count": 4,
   "metadata": {},
   "outputs": [],
   "source": [
    "my_data_icu=data_dict['icustays']\n",
    "my_data_icu['INTIME'] = pd.to_datetime(my_data_icu['INTIME'])\n",
    "my_data_icu['OUTTIME'] = pd.to_datetime(my_data_icu['OUTTIME'])"
   ]
  },
  {
   "cell_type": "code",
   "execution_count": 5,
   "metadata": {},
   "outputs": [
    {
     "name": "stderr",
     "output_type": "stream",
     "text": [
      "/home/sanghoon/.conda/envs/rdkit_env/lib/python3.7/site-packages/ipykernel_launcher.py:8: SettingWithCopyWarning: \n",
      "A value is trying to be set on a copy of a slice from a DataFrame.\n",
      "Try using .loc[row_indexer,col_indexer] = value instead\n",
      "\n",
      "See the caveats in the documentation: https://pandas.pydata.org/pandas-docs/stable/user_guide/indexing.html#returning-a-view-versus-a-copy\n",
      "  \n"
     ]
    }
   ],
   "source": [
    "my_data_chart=data_dict['chartevents']\n",
    "my_data_chart=my_data_chart[my_data_chart['VALUENUM'].isna()==False]\n",
    "my_data_chart=my_data_chart[my_data_chart['ERROR']!=1]\n",
    "my_data_chart['CHARTTIME']=pd.to_datetime(my_data_chart['CHARTTIME'])\n",
    "\n",
    "my_data_lab=data_dict['labevents']\n",
    "my_data_lab=my_data_lab[my_data_lab['VALUENUM']>=0]\n",
    "my_data_lab['CHARTTIME'] = pd.to_datetime(my_data_lab['CHARTTIME'])\n",
    "\n",
    "\n",
    "lab_and_icu = my_data_lab.merge(my_data_icu[['HADM_ID','ICUSTAY_ID','INTIME','OUTTIME','LOS']],'left',on='HADM_ID')\n",
    "start_time = pd.Timedelta(hours=6)\n",
    "lab_and_icu_intime = lab_and_icu[(lab_and_icu['CHARTTIME'] >= (lab_and_icu['INTIME'] - start_time)) & (lab_and_icu['CHARTTIME'] <= lab_and_icu['OUTTIME'])]\n",
    "\n",
    "\n",
    "my_data_chart=my_data_chart[['SUBJECT_ID','HADM_ID','ITEMID','CHARTTIME','VALUE','VALUEUOM']]\n",
    "chart_and_icu= my_data_chart.merge(my_data_icu[['HADM_ID','ICUSTAY_ID','INTIME','OUTTIME','LOS']],'left',on='HADM_ID')\n",
    "\n",
    "chart_and_icu_intime =chart_and_icu[(chart_and_icu['CHARTTIME'] >= chart_and_icu['INTIME']) & (chart_and_icu['CHARTTIME'] <= chart_and_icu['OUTTIME'])]\n",
    "len(lab_and_icu_intime), len(lab_and_icu), len(chart_and_icu_intime) , len(chart_and_icu)\n",
    "\n",
    "chart_lab_icu=pd.concat([chart_and_icu_intime,lab_and_icu_intime[['SUBJECT_ID','HADM_ID','ITEMID','CHARTTIME','VALUE','VALUEUOM','ICUSTAY_ID','INTIME','OUTTIME','LOS']]])"
   ]
  },
  {
   "cell_type": "code",
   "execution_count": 8,
   "metadata": {},
   "outputs": [],
   "source": [
    "chart_lab_icu.to_pickle(save_path+'/chart_lab_icu.pkl')"
   ]
  },
  {
   "cell_type": "code",
   "execution_count": 9,
   "metadata": {},
   "outputs": [
    {
     "data": {
      "text/plain": [
       "158482934"
      ]
     },
     "execution_count": 9,
     "metadata": {},
     "output_type": "execute_result"
    }
   ],
   "source": [
    "len(chart_lab_icu)"
   ]
  },
  {
   "cell_type": "code",
   "execution_count": null,
   "metadata": {},
   "outputs": [],
   "source": []
  }
 ],
 "metadata": {
  "kernelspec": {
   "display_name": "rdkit",
   "language": "python",
   "name": "rdkit_env"
  },
  "language_info": {
   "codemirror_mode": {
    "name": "ipython",
    "version": 3
   },
   "file_extension": ".py",
   "mimetype": "text/x-python",
   "name": "python",
   "nbconvert_exporter": "python",
   "pygments_lexer": "ipython3",
   "version": "3.7.10"
  }
 },
 "nbformat": 4,
 "nbformat_minor": 2
}
