{
 "cells": [
  {
   "cell_type": "code",
   "execution_count": 1,
   "metadata": {},
   "outputs": [],
   "source": [
    "import numpy as np\n",
    "import pandas as pd\n",
    "import os\n",
    "import datetime\n",
    "import sys\n",
    "import tqdm\n"
   ]
  },
  {
   "cell_type": "code",
   "execution_count": 5,
   "metadata": {},
   "outputs": [],
   "source": [
    "mimic_path = '/ssd1/mimic3'\n",
    "save_path = '../data'\n",
    "mimic_extract_folder = '/home/sanghoon/drug/EHR/MIMIC_Extract/'  # use your MIMIC_Extract folder\n",
    "mimic_folder = os.getcwd()"
   ]
  },
  {
   "cell_type": "markdown",
   "metadata": {},
   "source": [
    "## preprocess_ mimic_extract"
   ]
  },
  {
   "cell_type": "code",
   "execution_count": 6,
   "metadata": {},
   "outputs": [],
   "source": [
    "mimic_path = '/ssd1/mimic3'\n",
    "using_feature = ['ICUSTAYS', 'D_ITEMS','ADMISSIONS']\n",
    "data_dict ={}\n",
    "for file in using_feature:\n",
    "    temp_name = file +'.csv'\n",
    "    \n",
    "    data_dict[file.lower()] = pd.read_csv(mimic_path+'/'+temp_name, low_memory=False)\n",
    "    \n",
    "chart_lab_icu = pd.read_pickle(save_path+'/chart_lab_icu.pkl')"
   ]
  },
  {
   "cell_type": "code",
   "execution_count": 7,
   "metadata": {},
   "outputs": [],
   "source": [
    "\n",
    "\n",
    "os.chdir(mimic_extract_folder)\n",
    "\n",
    "from datapackage_io_util import (\n",
    "    load_datapackage_schema,\n",
    "    load_sanitized_df_from_csv,\n",
    "    save_sanitized_df_to_csv,\n",
    "    sanitize_df,\n",
    ")\n",
    "\n",
    "os.chdir(mimic_folder)\n",
    "\n",
    "def get_variable_mapping(mimic_mapping_filename):\n",
    "    # Read in the second level mapping of the itemids\n",
    "    var_map = pd.read_csv(mimic_mapping_filename, index_col=None)\n",
    "    var_map = var_map.loc[(var_map['LEVEL2'] != '') & (var_map['COUNT']>0)]\n",
    "    var_map = var_map.loc[(var_map['STATUS'] == 'ready')]\n",
    "    var_map['ITEMID'] = var_map['ITEMID'].astype(int)\n",
    "\n",
    "    return var_map\n",
    "\n",
    "def get_variable_ranges(range_filename):\n",
    "    # Read in the second level mapping of the itemid, and take those values out\n",
    "    columns = [ 'LEVEL2', 'OUTLIER LOW', 'VALID LOW', 'IMPUTE', 'VALID HIGH', 'OUTLIER HIGH' ]\n",
    "    to_rename = dict(zip(columns, [ c.replace(' ', '_') for c in columns ]))\n",
    "    to_rename['LEVEL2'] = 'VARIABLE'\n",
    "    var_ranges = pd.read_csv(range_filename, index_col=None)\n",
    "    var_ranges = var_ranges[columns]\n",
    "    var_ranges.rename(columns=to_rename, inplace=True)\n",
    "    var_ranges = var_ranges.drop_duplicates(subset='VARIABLE', keep='first')\n",
    "    var_ranges['VARIABLE'] = var_ranges['VARIABLE'].str.lower()\n",
    "    var_ranges.set_index('VARIABLE', inplace=True)\n",
    "    var_ranges = var_ranges.loc[var_ranges.notnull().all(axis=1)]\n",
    "\n",
    "    return var_ranges\n",
    "\n",
    "\n",
    "\n",
    "mimic_mapping_filename = os.path.join(mimic_extract_folder+'resources', 'itemid_to_variable_map.csv')\n",
    "range_filename = os.path.join(mimic_extract_folder+'resources', 'variable_ranges.csv')\n",
    "\n",
    "var_map = get_variable_mapping(mimic_mapping_filename)\n",
    "var_ranges = get_variable_ranges(range_filename)"
   ]
  },
  {
   "cell_type": "code",
   "execution_count": 8,
   "metadata": {},
   "outputs": [],
   "source": [
    "static_filename = 'static_data.csv'\n",
    "static_columns_filename = 'static_colnames.txt'\n",
    "\n",
    "dynamic_filename = 'vitals_hourly_data.csv'\n",
    "columns_filename = 'vitals_colnames.txt'\n",
    "subjects_filename = 'subjects.npy'\n",
    "times_filename = 'fenceposts.npy'\n",
    "dynamic_hd5_filename = 'vitals_hourly_data.h5'\n",
    "dynamic_hd5_filt_filename = 'all_hourly_data.h5'\n",
    "\n",
    "codes_hd5_filename = 'C.h5'\n",
    "notes_hd5_filename = 'notes.hdf' # N.h5\n",
    "idx_hd5_filename = 'C_idx.h5'\n",
    "\n",
    "outcome_filename = 'outcomes_hourly_data.csv'\n",
    "outcome_hd5_filename = 'outcomes_hourly_data.h5'\n",
    "outcome_columns_filename = 'outcomes_colnames.txt'\n",
    "\n",
    "# SQL command params\n",
    "\n",
    "ID_COLS = ['subject_id', 'hadm_id', 'icustay_id']\n",
    "ITEM_COLS = ['itemid', 'label', 'LEVEL1', 'LEVEL2']"
   ]
  },
  {
   "cell_type": "code",
   "execution_count": 9,
   "metadata": {},
   "outputs": [],
   "source": [
    "args={'resource_path':mimic_extract_folder+'resources',\n",
    "     'out_path':save_path,\n",
    "     'pop_size':0,\n",
    "     'extract_pop':1,\n",
    "      'min_age':15,\n",
    "      'min_duration':12,\n",
    "      'max_duration':2400\n",
    "     }\n",
    "\n",
    "def apply_variable_limits(df, var_ranges, var_names_index_col='LEVEL2'):\n",
    "    idx_vals        = df.index.get_level_values(var_names_index_col)\n",
    "    non_null_idx    = ~df.value.isnull()\n",
    "    var_names       = set(idx_vals)\n",
    "    var_range_names = set(var_ranges.index.values)\n",
    "\n",
    "    for var_name in tqdm.tqdm(var_names):\n",
    "        var_name_lower = var_name.lower()\n",
    "        if var_name_lower not in var_range_names:\n",
    "            print(\"No known ranges for %s\" % var_name)\n",
    "            continue\n",
    "\n",
    "        outlier_low_val, outlier_high_val, valid_low_val, valid_high_val = [\n",
    "            var_ranges.loc[var_name_lower, x] for x in ('OUTLIER_LOW','OUTLIER_HIGH','VALID_LOW','VALID_HIGH')\n",
    "        ]\n",
    "\n",
    "        running_idx = non_null_idx & (idx_vals == var_name)\n",
    "\n",
    "        outlier_low_idx  = (df.value < outlier_low_val)\n",
    "        outlier_high_idx = (df.value > outlier_high_val)\n",
    "        valid_low_idx    = ~outlier_low_idx & (df.value < valid_low_val)\n",
    "        valid_high_idx   = ~outlier_high_idx & (df.value > valid_high_val)\n",
    "\n",
    "        var_outlier_idx   = running_idx & (outlier_low_idx | outlier_high_idx)\n",
    "        var_valid_low_idx = running_idx & valid_low_idx\n",
    "        var_valid_high_idx = running_idx & valid_high_idx\n",
    "\n",
    "        df.loc[var_outlier_idx, 'value'] = np.nan\n",
    "        df.loc[var_valid_low_idx, 'value'] = valid_low_val\n",
    "        df.loc[var_valid_high_idx, 'value'] = valid_high_val\n",
    "\n",
    "        n_outlier = sum(var_outlier_idx)\n",
    "        n_valid_low = sum(var_valid_low_idx)\n",
    "        n_valid_high = sum(var_valid_high_idx)\n",
    "        if n_outlier + n_valid_low + n_valid_high > 0:\n",
    "            print(\n",
    "                \"%s had %d / %d rows cleaned:\\n\"\n",
    "                \"  %d rows were strict outliers, set to np.nan\\n\"\n",
    "                \"  %d rows were low valid outliers, set to %.2f\\n\"\n",
    "                \"  %d rows were high valid outliers, set to %.2f\\n\"\n",
    "                \"\" % (\n",
    "                    var_name,\n",
    "                    n_outlier + n_valid_low + n_valid_high, sum(running_idx),\n",
    "                    n_outlier, n_valid_low, valid_low_val, n_valid_high, valid_high_val\n",
    "                )\n",
    "            )\n",
    "\n",
    "    return df\n",
    "\n",
    "UNIT_CONVERSIONS = [\n",
    "    ('weight',                   'oz',  None,             lambda x: x/16.*0.45359237),\n",
    "    ('weight',                   'lbs', None,             lambda x: x*0.45359237),\n",
    "    ('fraction inspired oxygen', None,  lambda x: x > 1,  lambda x: x/100.),\n",
    "    ('oxygen saturation',        None,  lambda x: x <= 1, lambda x: x*100.),\n",
    "    ('temperature',              'f',   lambda x: x > 79, lambda x: (x - 32) * 5./9),\n",
    "    ('height',                   'in',  None,             lambda x: x*2.54),\n",
    "]\n",
    "def get_values_by_name_from_df_column_or_index(data_df, colname):\n",
    "    \"\"\" Easily get values for named field, whether a column or an index\n",
    "\n",
    "    Returns\n",
    "    -------\n",
    "    values : 1D array\n",
    "    \"\"\"\n",
    "    try:\n",
    "        values = data_df[colname]\n",
    "    except KeyError as e:\n",
    "        if colname in data_df.index.names:\n",
    "            values = data_df.index.get_level_values(colname)\n",
    "        else:\n",
    "            raise e\n",
    "    return values\n",
    "\n",
    "def standardize_units(X, name_col='itemid', unit_col='valueuom', value_col='value', inplace=True):\n",
    "    if not inplace: X = X.copy()\n",
    "    name_col_vals = get_values_by_name_from_df_column_or_index(X, name_col)\n",
    "    unit_col_vals = get_values_by_name_from_df_column_or_index(X, unit_col)\n",
    "\n",
    "    try:\n",
    "        name_col_vals = name_col_vals.str\n",
    "        unit_col_vals = unit_col_vals.str\n",
    "    except:\n",
    "        print(\"Can't call *.str\")\n",
    "        print(name_col_vals)\n",
    "        print(unit_col_vals)\n",
    "        raise\n",
    "\n",
    "    #name_filter, unit_filter = [\n",
    "    #    (lambda n: col.contains(n, case=False, na=False)) for col in (name_col_vals, unit_col_vals)\n",
    "    #]\n",
    "    # TODO(mmd): Why does the above not work, but the below does?\n",
    "    name_filter = lambda n: name_col_vals.contains(n, case=False, na=False)\n",
    "    unit_filter = lambda n: unit_col_vals.contains(n, case=False, na=False)\n",
    "\n",
    "    for name, unit, rng_check_fn, convert_fn in tqdm.tqdm(UNIT_CONVERSIONS):\n",
    "        name_filter_idx = name_filter(name)\n",
    "        needs_conversion_filter_idx = name_filter_idx & False\n",
    "\n",
    "        if unit is not None: needs_conversion_filter_idx |= name_filter(unit) | unit_filter(unit)\n",
    "        if rng_check_fn is not None: needs_conversion_filter_idx |= rng_check_fn(X[value_col])\n",
    "\n",
    "        idx = name_filter_idx & needs_conversion_filter_idx\n",
    "\n",
    "        X.loc[idx, value_col] = convert_fn(X[value_col][idx])\n",
    "\n",
    "    return X"
   ]
  },
  {
   "cell_type": "code",
   "execution_count": 10,
   "metadata": {},
   "outputs": [
    {
     "data": {
      "text/plain": [
       "'../data'"
      ]
     },
     "execution_count": 10,
     "metadata": {},
     "output_type": "execute_result"
    }
   ],
   "source": [
    "args['out_path']"
   ]
  },
  {
   "cell_type": "code",
   "execution_count": 11,
   "metadata": {},
   "outputs": [
    {
     "name": "stdout",
     "output_type": "stream",
     "text": [
      "Building data from scratch.\n"
     ]
    }
   ],
   "source": [
    "static_data_schema = load_datapackage_schema(\n",
    "        os.path.join(args['resource_path'], 'static_data_spec.json'))\n",
    "outcome_data_schema = load_datapackage_schema(\n",
    "    os.path.join(args['resource_path'], 'outcome_data_spec.json'))\n",
    "\n",
    "if not os.path.isdir(args['out_path']):\n",
    "    print('ERROR: OUTPATH %s DOES NOT EXIST' % args['out_path'])\n",
    "    sys.exit()\n",
    "else:\n",
    "    outPath = args['out_path']\n",
    "\n",
    "\n",
    "# Modify the filenames\n",
    "if args['pop_size'] > 0:\n",
    "    pop_size = str(args['pop_size'])\n",
    "\n",
    "    static_filename = splitext(static_filename)[0] + '_' + pop_size + splitext(static_filename)[1]\n",
    "    dynamic_filename = splitext(dynamic_filename)[0] + '_' + pop_size + splitext(dynamic_filename)[1]\n",
    "    #columns_filename = splitext(columns_filename)[0] + '_' + pop_size + splitext(columns_filename)[1]\n",
    "    subjects_filename = splitext(subjects_filename)[0] + '_' + pop_size + splitext(subjects_filename)[1]\n",
    "    times_filename = splitext(times_filename)[0] + '_' + pop_size + splitext(times_filename)[1]\n",
    "    dynamic_hd5_filename = splitext(dynamic_hd5_filename)[0] + '_' + pop_size + splitext(dynamic_hd5_filename)[1]\n",
    "    outcome_filename = splitext(outcome_filename)[0] + '_' + pop_size + splitext(outcome_filename)[1]\n",
    "    dynamic_hd5_filt_filename = splitext(dynamic_hd5_filt_filename)[0] + '_' + pop_size + splitext(dynamic_hd5_filt_filename)[1]\n",
    "    outcome_hd5_filename = splitext(outcome_hd5_filename)[0] + '_' + pop_size + splitext(outcome_hd5_filename)[1]\n",
    "    #outcome_columns_filename = splitext(outcome_columns_filename)[0] + '_' + pop_size + splitext(outcome_columns_filename)[1]\n",
    "    codes_hd5_filename = splitext(codes_hd5_filename)[0] + '_' + pop_size + splitext(codes_hd5_filename)[1]\n",
    "    notes_hd5_filename = splitext(notes_hd5_filename)[0] + '_' + pop_size + splitext(notes_hd5_filename)[1]\n",
    "    idx_hd5_filename = splitext(idx_hd5_filename)[0] + '_' + pop_size + splitext(idx_hd5_filename)[1]\n",
    "\n",
    "\n",
    "\n",
    "#############\n",
    "# Population extraction\n",
    "\n",
    "data = None\n",
    "if (args['extract_pop'] == 0 | (args['extract_pop'] == 1) ) & os.path.isfile(os.path.join(outPath, static_filename)):\n",
    "    print(\"Reloading data from %s\" % os.path.join(outPath, static_filename))\n",
    "    data = pd.read_csv(os.path.join(outPath, static_filename))\n",
    "    data = sanitize_df(data, static_data_schema)\n",
    "elif (args['extract_pop'] == 1 & (not os.path.isfile(os.path.join(outPath, static_filename)))) | (args['extract_pop'] == 2):\n",
    "    print(\"Building data from scratch.\")\n",
    "    pop_size_string = ''\n",
    "    if args['pop_size'] > 0:\n",
    "        pop_size_string = 'LIMIT ' + str(args['pop_size'])\n",
    "\n",
    "    min_age_string = str(args['min_age'])\n",
    "    min_dur_string = str(args['min_duration'])\n",
    "    max_dur_string = str(args['max_duration'])\n",
    "    min_day_string = str(float(args['min_duration'])/24)\n",
    "\n",
    "    template_vars = dict(\n",
    "        limit=pop_size_string, min_age=min_age_string, min_dur=min_dur_string, max_dur=max_dur_string,\n",
    "        min_day=min_day_string\n",
    "    )"
   ]
  },
  {
   "cell_type": "code",
   "execution_count": 12,
   "metadata": {},
   "outputs": [],
   "source": [
    "var_map = var_map[['LEVEL2', 'ITEMID', 'LEVEL1']].rename({'LEVEL2': 'LEVEL2', 'LEVEL1': 'LEVEL1', 'ITEMID': 'itemid'}, axis=1).set_index('itemid')\n",
    "chart_lab_icu.columns = list(map(lambda x :x.lower(), chart_lab_icu.columns))\n",
    "chart_lab_icu['value']= pd.to_numeric(chart_lab_icu['value'],'coerce')\n",
    "chart_lab_icu.astype({k: int for k in ID_COLS })\n",
    "\n",
    "to_hours = lambda x: max(0, x.days*24 + x.seconds // 3600)\n",
    "\n",
    "chart_lab_icu = chart_lab_icu.set_index('icustay_id')\n",
    "chart_lab_icu['hours_in'] = (chart_lab_icu['charttime'] - chart_lab_icu['intime']).apply(to_hours)"
   ]
  },
  {
   "cell_type": "code",
   "execution_count": 13,
   "metadata": {},
   "outputs": [],
   "source": [
    "chart_lab_icu.drop(columns=['charttime', 'intime'], inplace=True)\n",
    "chart_lab_icu.set_index('itemid', append=True, inplace=True)\n",
    "\n",
    "\n",
    "items_d= data_dict['d_items']\n",
    "items_d.columns = list(map(lambda x :x.lower(), items_d.columns))\n",
    "items_d=items_d[['itemid','label','dbsource','linksto','category','unitname']]\n",
    "\n"
   ]
  },
  {
   "cell_type": "code",
   "execution_count": 14,
   "metadata": {},
   "outputs": [],
   "source": [
    "items_d=items_d.set_index('itemid')\n",
    "chart_lab_icu = chart_lab_icu.join(var_map).join(items_d).set_index(['label', 'LEVEL1', 'LEVEL2'], append=True)\n"
   ]
  },
  {
   "cell_type": "code",
   "execution_count": 15,
   "metadata": {
    "scrolled": true
   },
   "outputs": [
    {
     "name": "stderr",
     "output_type": "stream",
     "text": [
      "100%|██████████| 6/6 [15:05<00:00, 150.93s/it]\n"
     ]
    },
    {
     "data": {
      "text/html": [
       "<div>\n",
       "<style scoped>\n",
       "    .dataframe tbody tr th:only-of-type {\n",
       "        vertical-align: middle;\n",
       "    }\n",
       "\n",
       "    .dataframe tbody tr th {\n",
       "        vertical-align: top;\n",
       "    }\n",
       "\n",
       "    .dataframe thead th {\n",
       "        text-align: right;\n",
       "    }\n",
       "</style>\n",
       "<table border=\"1\" class=\"dataframe\">\n",
       "  <thead>\n",
       "    <tr style=\"text-align: right;\">\n",
       "      <th></th>\n",
       "      <th></th>\n",
       "      <th></th>\n",
       "      <th></th>\n",
       "      <th></th>\n",
       "      <th>subject_id</th>\n",
       "      <th>hadm_id</th>\n",
       "      <th>value</th>\n",
       "      <th>valueuom</th>\n",
       "      <th>outtime</th>\n",
       "      <th>los</th>\n",
       "      <th>hours_in</th>\n",
       "      <th>dbsource</th>\n",
       "      <th>linksto</th>\n",
       "      <th>category</th>\n",
       "      <th>unitname</th>\n",
       "    </tr>\n",
       "    <tr>\n",
       "      <th>icustay_id</th>\n",
       "      <th>itemid</th>\n",
       "      <th>label</th>\n",
       "      <th>LEVEL1</th>\n",
       "      <th>LEVEL2</th>\n",
       "      <th></th>\n",
       "      <th></th>\n",
       "      <th></th>\n",
       "      <th></th>\n",
       "      <th></th>\n",
       "      <th></th>\n",
       "      <th></th>\n",
       "      <th></th>\n",
       "      <th></th>\n",
       "      <th></th>\n",
       "      <th></th>\n",
       "    </tr>\n",
       "  </thead>\n",
       "  <tbody>\n",
       "    <tr>\n",
       "      <th rowspan=\"5\" valign=\"top\">241249.0</th>\n",
       "      <th>223834</th>\n",
       "      <th>O2 Flow</th>\n",
       "      <th>NaN</th>\n",
       "      <th>NaN</th>\n",
       "      <td>36</td>\n",
       "      <td>165660.0</td>\n",
       "      <td>15.00</td>\n",
       "      <td>L/min</td>\n",
       "      <td>2134-05-16 15:14:20</td>\n",
       "      <td>4.3483</td>\n",
       "      <td>5</td>\n",
       "      <td>metavision</td>\n",
       "      <td>chartevents</td>\n",
       "      <td>Respiratory</td>\n",
       "      <td>L/min</td>\n",
       "    </tr>\n",
       "    <tr>\n",
       "      <th>223835</th>\n",
       "      <th>Inspired O2 Fraction</th>\n",
       "      <th>Fraction inspired oxygen</th>\n",
       "      <th>Fraction inspired oxygen</th>\n",
       "      <td>36</td>\n",
       "      <td>165660.0</td>\n",
       "      <td>1.00</td>\n",
       "      <td>NaN</td>\n",
       "      <td>2134-05-16 15:14:20</td>\n",
       "      <td>4.3483</td>\n",
       "      <td>5</td>\n",
       "      <td>metavision</td>\n",
       "      <td>chartevents</td>\n",
       "      <td>Respiratory</td>\n",
       "      <td>None</td>\n",
       "    </tr>\n",
       "    <tr>\n",
       "      <th>224328</th>\n",
       "      <th>PCA dose</th>\n",
       "      <th>NaN</th>\n",
       "      <th>NaN</th>\n",
       "      <td>36</td>\n",
       "      <td>165660.0</td>\n",
       "      <td>0.37</td>\n",
       "      <td>NaN</td>\n",
       "      <td>2134-05-16 15:14:20</td>\n",
       "      <td>4.3483</td>\n",
       "      <td>5</td>\n",
       "      <td>metavision</td>\n",
       "      <td>chartevents</td>\n",
       "      <td>Pain/Sedation</td>\n",
       "      <td>None</td>\n",
       "    </tr>\n",
       "    <tr>\n",
       "      <th>224329</th>\n",
       "      <th>PCA lockout (min)</th>\n",
       "      <th>NaN</th>\n",
       "      <th>NaN</th>\n",
       "      <td>36</td>\n",
       "      <td>165660.0</td>\n",
       "      <td>6.00</td>\n",
       "      <td>min</td>\n",
       "      <td>2134-05-16 15:14:20</td>\n",
       "      <td>4.3483</td>\n",
       "      <td>5</td>\n",
       "      <td>metavision</td>\n",
       "      <td>chartevents</td>\n",
       "      <td>Pain/Sedation</td>\n",
       "      <td>min</td>\n",
       "    </tr>\n",
       "    <tr>\n",
       "      <th>224330</th>\n",
       "      <th>PCA 1 hour limit</th>\n",
       "      <th>NaN</th>\n",
       "      <th>NaN</th>\n",
       "      <td>36</td>\n",
       "      <td>165660.0</td>\n",
       "      <td>2.50</td>\n",
       "      <td>NaN</td>\n",
       "      <td>2134-05-16 15:14:20</td>\n",
       "      <td>4.3483</td>\n",
       "      <td>5</td>\n",
       "      <td>metavision</td>\n",
       "      <td>chartevents</td>\n",
       "      <td>Pain/Sedation</td>\n",
       "      <td>None</td>\n",
       "    </tr>\n",
       "    <tr>\n",
       "      <th>...</th>\n",
       "      <th>...</th>\n",
       "      <th>...</th>\n",
       "      <th>...</th>\n",
       "      <th>...</th>\n",
       "      <td>...</td>\n",
       "      <td>...</td>\n",
       "      <td>...</td>\n",
       "      <td>...</td>\n",
       "      <td>...</td>\n",
       "      <td>...</td>\n",
       "      <td>...</td>\n",
       "      <td>...</td>\n",
       "      <td>...</td>\n",
       "      <td>...</td>\n",
       "      <td>...</td>\n",
       "    </tr>\n",
       "    <tr>\n",
       "      <th rowspan=\"5\" valign=\"top\">233856.0</th>\n",
       "      <th>50882</th>\n",
       "      <th>NaN</th>\n",
       "      <th>Bicarbonate</th>\n",
       "      <th>Bicarbonate</th>\n",
       "      <td>96443</td>\n",
       "      <td>103219.0</td>\n",
       "      <td>26.00</td>\n",
       "      <td>mEq/L</td>\n",
       "      <td>2110-01-05 17:40:34</td>\n",
       "      <td>16.3241</td>\n",
       "      <td>231</td>\n",
       "      <td>NaN</td>\n",
       "      <td>NaN</td>\n",
       "      <td>NaN</td>\n",
       "      <td>NaN</td>\n",
       "    </tr>\n",
       "    <tr>\n",
       "      <th>50885</th>\n",
       "      <th>NaN</th>\n",
       "      <th>Bilirubin (total)</th>\n",
       "      <th>Bilirubin</th>\n",
       "      <td>96443</td>\n",
       "      <td>103219.0</td>\n",
       "      <td>2.10</td>\n",
       "      <td>mg/dL</td>\n",
       "      <td>2110-01-05 17:40:34</td>\n",
       "      <td>16.3241</td>\n",
       "      <td>231</td>\n",
       "      <td>NaN</td>\n",
       "      <td>NaN</td>\n",
       "      <td>NaN</td>\n",
       "      <td>NaN</td>\n",
       "    </tr>\n",
       "    <tr>\n",
       "      <th>50902</th>\n",
       "      <th>NaN</th>\n",
       "      <th>Chloride</th>\n",
       "      <th>Chloride</th>\n",
       "      <td>96443</td>\n",
       "      <td>103219.0</td>\n",
       "      <td>97.00</td>\n",
       "      <td>mEq/L</td>\n",
       "      <td>2110-01-05 17:40:34</td>\n",
       "      <td>16.3241</td>\n",
       "      <td>231</td>\n",
       "      <td>NaN</td>\n",
       "      <td>NaN</td>\n",
       "      <td>NaN</td>\n",
       "      <td>NaN</td>\n",
       "    </tr>\n",
       "    <tr>\n",
       "      <th>50911</th>\n",
       "      <th>NaN</th>\n",
       "      <th>NaN</th>\n",
       "      <th>NaN</th>\n",
       "      <td>96443</td>\n",
       "      <td>103219.0</td>\n",
       "      <td>2.00</td>\n",
       "      <td>ng/mL</td>\n",
       "      <td>2110-01-05 17:40:34</td>\n",
       "      <td>16.3241</td>\n",
       "      <td>231</td>\n",
       "      <td>NaN</td>\n",
       "      <td>NaN</td>\n",
       "      <td>NaN</td>\n",
       "      <td>NaN</td>\n",
       "    </tr>\n",
       "    <tr>\n",
       "      <th>50912</th>\n",
       "      <th>NaN</th>\n",
       "      <th>Creatinine</th>\n",
       "      <th>Creatinine</th>\n",
       "      <td>96443</td>\n",
       "      <td>103219.0</td>\n",
       "      <td>1.60</td>\n",
       "      <td>mg/dL</td>\n",
       "      <td>2110-01-05 17:40:34</td>\n",
       "      <td>16.3241</td>\n",
       "      <td>231</td>\n",
       "      <td>NaN</td>\n",
       "      <td>NaN</td>\n",
       "      <td>NaN</td>\n",
       "      <td>NaN</td>\n",
       "    </tr>\n",
       "  </tbody>\n",
       "</table>\n",
       "<p>158482934 rows × 11 columns</p>\n",
       "</div>"
      ],
      "text/plain": [
       "                                                                                          subject_id  \\\n",
       "icustay_id itemid label                LEVEL1                   LEVEL2                                 \n",
       "241249.0   223834 O2 Flow              NaN                      NaN                               36   \n",
       "           223835 Inspired O2 Fraction Fraction inspired oxygen Fraction inspired oxygen          36   \n",
       "           224328 PCA dose             NaN                      NaN                               36   \n",
       "           224329 PCA lockout (min)    NaN                      NaN                               36   \n",
       "           224330 PCA 1 hour limit     NaN                      NaN                               36   \n",
       "...                                                                                              ...   \n",
       "233856.0   50882  NaN                  Bicarbonate              Bicarbonate                    96443   \n",
       "           50885  NaN                  Bilirubin (total)        Bilirubin                      96443   \n",
       "           50902  NaN                  Chloride                 Chloride                       96443   \n",
       "           50911  NaN                  NaN                      NaN                            96443   \n",
       "           50912  NaN                  Creatinine               Creatinine                     96443   \n",
       "\n",
       "                                                                                           hadm_id  \\\n",
       "icustay_id itemid label                LEVEL1                   LEVEL2                               \n",
       "241249.0   223834 O2 Flow              NaN                      NaN                       165660.0   \n",
       "           223835 Inspired O2 Fraction Fraction inspired oxygen Fraction inspired oxygen  165660.0   \n",
       "           224328 PCA dose             NaN                      NaN                       165660.0   \n",
       "           224329 PCA lockout (min)    NaN                      NaN                       165660.0   \n",
       "           224330 PCA 1 hour limit     NaN                      NaN                       165660.0   \n",
       "...                                                                                            ...   \n",
       "233856.0   50882  NaN                  Bicarbonate              Bicarbonate               103219.0   \n",
       "           50885  NaN                  Bilirubin (total)        Bilirubin                 103219.0   \n",
       "           50902  NaN                  Chloride                 Chloride                  103219.0   \n",
       "           50911  NaN                  NaN                      NaN                       103219.0   \n",
       "           50912  NaN                  Creatinine               Creatinine                103219.0   \n",
       "\n",
       "                                                                                          value  \\\n",
       "icustay_id itemid label                LEVEL1                   LEVEL2                            \n",
       "241249.0   223834 O2 Flow              NaN                      NaN                       15.00   \n",
       "           223835 Inspired O2 Fraction Fraction inspired oxygen Fraction inspired oxygen   1.00   \n",
       "           224328 PCA dose             NaN                      NaN                        0.37   \n",
       "           224329 PCA lockout (min)    NaN                      NaN                        6.00   \n",
       "           224330 PCA 1 hour limit     NaN                      NaN                        2.50   \n",
       "...                                                                                         ...   \n",
       "233856.0   50882  NaN                  Bicarbonate              Bicarbonate               26.00   \n",
       "           50885  NaN                  Bilirubin (total)        Bilirubin                  2.10   \n",
       "           50902  NaN                  Chloride                 Chloride                  97.00   \n",
       "           50911  NaN                  NaN                      NaN                        2.00   \n",
       "           50912  NaN                  Creatinine               Creatinine                 1.60   \n",
       "\n",
       "                                                                                         valueuom  \\\n",
       "icustay_id itemid label                LEVEL1                   LEVEL2                              \n",
       "241249.0   223834 O2 Flow              NaN                      NaN                         L/min   \n",
       "           223835 Inspired O2 Fraction Fraction inspired oxygen Fraction inspired oxygen      NaN   \n",
       "           224328 PCA dose             NaN                      NaN                           NaN   \n",
       "           224329 PCA lockout (min)    NaN                      NaN                           min   \n",
       "           224330 PCA 1 hour limit     NaN                      NaN                           NaN   \n",
       "...                                                                                           ...   \n",
       "233856.0   50882  NaN                  Bicarbonate              Bicarbonate                 mEq/L   \n",
       "           50885  NaN                  Bilirubin (total)        Bilirubin                   mg/dL   \n",
       "           50902  NaN                  Chloride                 Chloride                    mEq/L   \n",
       "           50911  NaN                  NaN                      NaN                         ng/mL   \n",
       "           50912  NaN                  Creatinine               Creatinine                  mg/dL   \n",
       "\n",
       "                                                                                                     outtime  \\\n",
       "icustay_id itemid label                LEVEL1                   LEVEL2                                         \n",
       "241249.0   223834 O2 Flow              NaN                      NaN                      2134-05-16 15:14:20   \n",
       "           223835 Inspired O2 Fraction Fraction inspired oxygen Fraction inspired oxygen 2134-05-16 15:14:20   \n",
       "           224328 PCA dose             NaN                      NaN                      2134-05-16 15:14:20   \n",
       "           224329 PCA lockout (min)    NaN                      NaN                      2134-05-16 15:14:20   \n",
       "           224330 PCA 1 hour limit     NaN                      NaN                      2134-05-16 15:14:20   \n",
       "...                                                                                                      ...   \n",
       "233856.0   50882  NaN                  Bicarbonate              Bicarbonate              2110-01-05 17:40:34   \n",
       "           50885  NaN                  Bilirubin (total)        Bilirubin                2110-01-05 17:40:34   \n",
       "           50902  NaN                  Chloride                 Chloride                 2110-01-05 17:40:34   \n",
       "           50911  NaN                  NaN                      NaN                      2110-01-05 17:40:34   \n",
       "           50912  NaN                  Creatinine               Creatinine               2110-01-05 17:40:34   \n",
       "\n",
       "                                                                                              los  \\\n",
       "icustay_id itemid label                LEVEL1                   LEVEL2                              \n",
       "241249.0   223834 O2 Flow              NaN                      NaN                        4.3483   \n",
       "           223835 Inspired O2 Fraction Fraction inspired oxygen Fraction inspired oxygen   4.3483   \n",
       "           224328 PCA dose             NaN                      NaN                        4.3483   \n",
       "           224329 PCA lockout (min)    NaN                      NaN                        4.3483   \n",
       "           224330 PCA 1 hour limit     NaN                      NaN                        4.3483   \n",
       "...                                                                                           ...   \n",
       "233856.0   50882  NaN                  Bicarbonate              Bicarbonate               16.3241   \n",
       "           50885  NaN                  Bilirubin (total)        Bilirubin                 16.3241   \n",
       "           50902  NaN                  Chloride                 Chloride                  16.3241   \n",
       "           50911  NaN                  NaN                      NaN                       16.3241   \n",
       "           50912  NaN                  Creatinine               Creatinine                16.3241   \n",
       "\n",
       "                                                                                          hours_in  \\\n",
       "icustay_id itemid label                LEVEL1                   LEVEL2                               \n",
       "241249.0   223834 O2 Flow              NaN                      NaN                              5   \n",
       "           223835 Inspired O2 Fraction Fraction inspired oxygen Fraction inspired oxygen         5   \n",
       "           224328 PCA dose             NaN                      NaN                              5   \n",
       "           224329 PCA lockout (min)    NaN                      NaN                              5   \n",
       "           224330 PCA 1 hour limit     NaN                      NaN                              5   \n",
       "...                                                                                            ...   \n",
       "233856.0   50882  NaN                  Bicarbonate              Bicarbonate                    231   \n",
       "           50885  NaN                  Bilirubin (total)        Bilirubin                      231   \n",
       "           50902  NaN                  Chloride                 Chloride                       231   \n",
       "           50911  NaN                  NaN                      NaN                            231   \n",
       "           50912  NaN                  Creatinine               Creatinine                     231   \n",
       "\n",
       "                                                                                            dbsource  \\\n",
       "icustay_id itemid label                LEVEL1                   LEVEL2                                 \n",
       "241249.0   223834 O2 Flow              NaN                      NaN                       metavision   \n",
       "           223835 Inspired O2 Fraction Fraction inspired oxygen Fraction inspired oxygen  metavision   \n",
       "           224328 PCA dose             NaN                      NaN                       metavision   \n",
       "           224329 PCA lockout (min)    NaN                      NaN                       metavision   \n",
       "           224330 PCA 1 hour limit     NaN                      NaN                       metavision   \n",
       "...                                                                                              ...   \n",
       "233856.0   50882  NaN                  Bicarbonate              Bicarbonate                      NaN   \n",
       "           50885  NaN                  Bilirubin (total)        Bilirubin                        NaN   \n",
       "           50902  NaN                  Chloride                 Chloride                         NaN   \n",
       "           50911  NaN                  NaN                      NaN                              NaN   \n",
       "           50912  NaN                  Creatinine               Creatinine                       NaN   \n",
       "\n",
       "                                                                                              linksto  \\\n",
       "icustay_id itemid label                LEVEL1                   LEVEL2                                  \n",
       "241249.0   223834 O2 Flow              NaN                      NaN                       chartevents   \n",
       "           223835 Inspired O2 Fraction Fraction inspired oxygen Fraction inspired oxygen  chartevents   \n",
       "           224328 PCA dose             NaN                      NaN                       chartevents   \n",
       "           224329 PCA lockout (min)    NaN                      NaN                       chartevents   \n",
       "           224330 PCA 1 hour limit     NaN                      NaN                       chartevents   \n",
       "...                                                                                               ...   \n",
       "233856.0   50882  NaN                  Bicarbonate              Bicarbonate                       NaN   \n",
       "           50885  NaN                  Bilirubin (total)        Bilirubin                         NaN   \n",
       "           50902  NaN                  Chloride                 Chloride                          NaN   \n",
       "           50911  NaN                  NaN                      NaN                               NaN   \n",
       "           50912  NaN                  Creatinine               Creatinine                        NaN   \n",
       "\n",
       "                                                                                               category  \\\n",
       "icustay_id itemid label                LEVEL1                   LEVEL2                                    \n",
       "241249.0   223834 O2 Flow              NaN                      NaN                         Respiratory   \n",
       "           223835 Inspired O2 Fraction Fraction inspired oxygen Fraction inspired oxygen    Respiratory   \n",
       "           224328 PCA dose             NaN                      NaN                       Pain/Sedation   \n",
       "           224329 PCA lockout (min)    NaN                      NaN                       Pain/Sedation   \n",
       "           224330 PCA 1 hour limit     NaN                      NaN                       Pain/Sedation   \n",
       "...                                                                                                 ...   \n",
       "233856.0   50882  NaN                  Bicarbonate              Bicarbonate                         NaN   \n",
       "           50885  NaN                  Bilirubin (total)        Bilirubin                           NaN   \n",
       "           50902  NaN                  Chloride                 Chloride                            NaN   \n",
       "           50911  NaN                  NaN                      NaN                                 NaN   \n",
       "           50912  NaN                  Creatinine               Creatinine                          NaN   \n",
       "\n",
       "                                                                                         unitname  \n",
       "icustay_id itemid label                LEVEL1                   LEVEL2                             \n",
       "241249.0   223834 O2 Flow              NaN                      NaN                         L/min  \n",
       "           223835 Inspired O2 Fraction Fraction inspired oxygen Fraction inspired oxygen     None  \n",
       "           224328 PCA dose             NaN                      NaN                          None  \n",
       "           224329 PCA lockout (min)    NaN                      NaN                           min  \n",
       "           224330 PCA 1 hour limit     NaN                      NaN                          None  \n",
       "...                                                                                           ...  \n",
       "233856.0   50882  NaN                  Bicarbonate              Bicarbonate                   NaN  \n",
       "           50885  NaN                  Bilirubin (total)        Bilirubin                     NaN  \n",
       "           50902  NaN                  Chloride                 Chloride                      NaN  \n",
       "           50911  NaN                  NaN                      NaN                           NaN  \n",
       "           50912  NaN                  Creatinine               Creatinine                    NaN  \n",
       "\n",
       "[158482934 rows x 11 columns]"
      ]
     },
     "execution_count": 15,
     "metadata": {},
     "output_type": "execute_result"
    }
   ],
   "source": [
    "standardize_units(chart_lab_icu, name_col='LEVEL1', inplace=True)"
   ]
  },
  {
   "cell_type": "code",
   "execution_count": 16,
   "metadata": {},
   "outputs": [],
   "source": [
    "chart_lab_icu_drop_level2na = chart_lab_icu[~chart_lab_icu.index.get_level_values('LEVEL2').isna()]"
   ]
  },
  {
   "cell_type": "code",
   "execution_count": 17,
   "metadata": {},
   "outputs": [
    {
     "name": "stderr",
     "output_type": "stream",
     "text": [
      "\r",
      "  0%|          | 0/104 [00:00<?, ?it/s]"
     ]
    },
    {
     "name": "stdout",
     "output_type": "stream",
     "text": [
      "No known ranges for Prothrombin time INR\n",
      "No known ranges for Cholesterol HDL\n"
     ]
    },
    {
     "name": "stderr",
     "output_type": "stream",
     "text": [
      "/home/sanghoon/.conda/envs/rdkit_env/lib/python3.7/site-packages/pandas/core/indexing.py:1817: SettingWithCopyWarning: \n",
      "A value is trying to be set on a copy of a slice from a DataFrame.\n",
      "Try using .loc[row_indexer,col_indexer] = value instead\n",
      "\n",
      "See the caveats in the documentation: https://pandas.pydata.org/pandas-docs/stable/user_guide/indexing.html#returning-a-view-versus-a-copy\n",
      "  self._setitem_single_column(loc, value, pi)\n",
      "  3%|▎         | 3/104 [00:37<20:56, 12.44s/it]"
     ]
    },
    {
     "name": "stdout",
     "output_type": "stream",
     "text": [
      "Temperature had 2037 / 3367518 rows cleaned:\n",
      "  1953 rows were strict outliers, set to np.nan\n",
      "  83 rows were low valid outliers, set to 26.00\n",
      "  1 rows were high valid outliers, set to 45.00\n",
      "\n",
      "No known ranges for Creatinine ascites\n"
     ]
    },
    {
     "name": "stderr",
     "output_type": "stream",
     "text": [
      "\r",
      "  5%|▍         | 5/104 [01:17<26:29, 16.05s/it]"
     ]
    },
    {
     "name": "stdout",
     "output_type": "stream",
     "text": [
      "Alanine aminotransferase had 312 / 160486 rows cleaned:\n",
      "  102 rows were strict outliers, set to np.nan\n",
      "  164 rows were low valid outliers, set to 2.00\n",
      "  46 rows were high valid outliers, set to 10000.00\n",
      "\n"
     ]
    },
    {
     "name": "stderr",
     "output_type": "stream",
     "text": [
      "\r",
      "  6%|▌         | 6/104 [01:52<34:28, 21.11s/it]"
     ]
    },
    {
     "name": "stdout",
     "output_type": "stream",
     "text": [
      "Fraction inspired oxygen had 1456 / 1463615 rows cleaned:\n",
      "  1433 rows were strict outliers, set to np.nan\n",
      "  23 rows were low valid outliers, set to 0.21\n",
      "  0 rows were high valid outliers, set to 1.00\n",
      "\n"
     ]
    },
    {
     "name": "stderr",
     "output_type": "stream",
     "text": [
      "\r",
      "  7%|▋         | 7/104 [02:27<39:59, 24.74s/it]"
     ]
    },
    {
     "name": "stdout",
     "output_type": "stream",
     "text": [
      "Weight had 100 / 1444588 rows cleaned:\n",
      "  100 rows were strict outliers, set to np.nan\n",
      "  0 rows were low valid outliers, set to 0.00\n",
      "  0 rows were high valid outliers, set to 250.00\n",
      "\n"
     ]
    },
    {
     "name": "stderr",
     "output_type": "stream",
     "text": [
      "\r",
      "  8%|▊         | 8/104 [03:01<43:46, 27.36s/it]"
     ]
    },
    {
     "name": "stdout",
     "output_type": "stream",
     "text": [
      "Hemoglobin had 12 / 727790 rows cleaned:\n",
      "  10 rows were strict outliers, set to np.nan\n",
      "  0 rows were low valid outliers, set to 0.00\n",
      "  2 rows were high valid outliers, set to 25.00\n",
      "\n"
     ]
    },
    {
     "name": "stderr",
     "output_type": "stream",
     "text": [
      "\r",
      "  9%|▊         | 9/104 [03:27<42:58, 27.14s/it]"
     ]
    },
    {
     "name": "stdout",
     "output_type": "stream",
     "text": [
      "No known ranges for Chloride urine\n",
      "No known ranges for Creatinine urine\n"
     ]
    },
    {
     "name": "stderr",
     "output_type": "stream",
     "text": [
      "\r",
      " 12%|█▏        | 12/104 [04:01<28:14, 18.42s/it]"
     ]
    },
    {
     "name": "stdout",
     "output_type": "stream",
     "text": [
      "Positive end-expiratory pressure had 375 / 129124 rows cleaned:\n",
      "  114 rows were strict outliers, set to np.nan\n",
      "  0 rows were low valid outliers, set to 0.00\n",
      "  261 rows were high valid outliers, set to 25.00\n",
      "\n"
     ]
    },
    {
     "name": "stderr",
     "output_type": "stream",
     "text": [
      "\r",
      " 12%|█▎        | 13/104 [04:35<32:53, 21.68s/it]"
     ]
    },
    {
     "name": "stdout",
     "output_type": "stream",
     "text": [
      "Partial pressure of carbon dioxide had 11 / 871928 rows cleaned:\n",
      "  5 rows were strict outliers, set to np.nan\n",
      "  0 rows were low valid outliers, set to 0.00\n",
      "  6 rows were high valid outliers, set to 200.00\n",
      "\n",
      "No known ranges for Lymphocytes ascites\n"
     ]
    },
    {
     "name": "stderr",
     "output_type": "stream",
     "text": [
      "\r",
      " 14%|█▍        | 15/104 [05:10<29:41, 20.02s/it]"
     ]
    },
    {
     "name": "stdout",
     "output_type": "stream",
     "text": [
      "Systolic blood pressure had 31 / 6303803 rows cleaned:\n",
      "  31 rows were strict outliers, set to np.nan\n",
      "  0 rows were low valid outliers, set to 0.00\n",
      "  0 rows were high valid outliers, set to 375.00\n",
      "\n",
      "No known ranges for Tidal Volume Observed\n",
      "No known ranges for Basophils\n",
      "No known ranges for Mean corpuscular hemoglobin\n"
     ]
    },
    {
     "name": "stderr",
     "output_type": "stream",
     "text": [
      "\r",
      " 18%|█▊        | 19/104 [05:44<19:58, 14.10s/it]"
     ]
    },
    {
     "name": "stdout",
     "output_type": "stream",
     "text": [
      "Creatinine had 318 / 848014 rows cleaned:\n",
      "  251 rows were strict outliers, set to np.nan\n",
      "  66 rows were low valid outliers, set to 0.10\n",
      "  1 rows were high valid outliers, set to 60.00\n",
      "\n"
     ]
    },
    {
     "name": "stderr",
     "output_type": "stream",
     "text": [
      "\r",
      " 19%|█▉        | 20/104 [06:20<24:35, 17.57s/it]"
     ]
    },
    {
     "name": "stdout",
     "output_type": "stream",
     "text": [
      "Peak inspiratory pressure had 143397 / 678490 rows cleaned:\n",
      "  15721 rows were strict outliers, set to np.nan\n",
      "  118531 rows were low valid outliers, set to 14.00\n",
      "  9145 rows were high valid outliers, set to 38.00\n",
      "\n",
      "No known ranges for Neutrophils\n",
      "No known ranges for Albumin urine\n",
      "No known ranges for Respiratory rate Set\n",
      "No known ranges for Fibrinogen\n"
     ]
    },
    {
     "name": "stderr",
     "output_type": "stream",
     "text": [
      "\r",
      " 24%|██▍       | 25/104 [06:54<15:40, 11.91s/it]"
     ]
    },
    {
     "name": "stdout",
     "output_type": "stream",
     "text": [
      "Height had 16 / 24010 rows cleaned:\n",
      "  10 rows were strict outliers, set to np.nan\n",
      "  0 rows were low valid outliers, set to 0.00\n",
      "  6 rows were high valid outliers, set to 240.00\n",
      "\n"
     ]
    },
    {
     "name": "stderr",
     "output_type": "stream",
     "text": [
      "\r",
      " 25%|██▌       | 26/104 [07:29<19:16, 14.83s/it]"
     ]
    },
    {
     "name": "stdout",
     "output_type": "stream",
     "text": [
      "Asparate aminotransferase had 143 / 160355 rows cleaned:\n",
      "  25 rows were strict outliers, set to np.nan\n",
      "  106 rows were low valid outliers, set to 6.00\n",
      "  12 rows were high valid outliers, set to 20000.00\n",
      "\n",
      "No known ranges for pH urine\n"
     ]
    },
    {
     "name": "stderr",
     "output_type": "stream",
     "text": [
      "\r",
      " 27%|██▋       | 28/104 [08:03<19:37, 15.50s/it]"
     ]
    },
    {
     "name": "stdout",
     "output_type": "stream",
     "text": [
      "Oxygen saturation had 76 / 7946832 rows cleaned:\n",
      "  59 rows were strict outliers, set to np.nan\n",
      "  0 rows were low valid outliers, set to 0.00\n",
      "  17 rows were high valid outliers, set to 100.00\n",
      "\n",
      "No known ranges for Eosinophils\n",
      "No known ranges for Post Void Residual\n",
      "No known ranges for Red blood cell count ascites\n",
      "No known ranges for Positive end-expiratory pressure Set\n",
      "No known ranges for Mean corpuscular volume\n",
      "No known ranges for Lactate dehydrogenase pleural\n"
     ]
    },
    {
     "name": "stderr",
     "output_type": "stream",
     "text": [
      "\r",
      " 34%|███▎      | 35/104 [08:38<10:51,  9.45s/it]"
     ]
    },
    {
     "name": "stdout",
     "output_type": "stream",
     "text": [
      "Sodium had 44 / 998530 rows cleaned:\n",
      "  5 rows were strict outliers, set to np.nan\n",
      "  37 rows were low valid outliers, set to 50.00\n",
      "  2 rows were high valid outliers, set to 225.00\n",
      "\n",
      "No known ranges for Prothrombin time PT\n",
      "No known ranges for Red blood cell count CSF\n",
      "No known ranges for Albumin ascites\n"
     ]
    },
    {
     "name": "stderr",
     "output_type": "stream",
     "text": [
      "\r",
      " 38%|███▊      | 39/104 [09:13<09:58,  9.21s/it]"
     ]
    },
    {
     "name": "stdout",
     "output_type": "stream",
     "text": [
      "Magnesium had 83 / 826716 rows cleaned:\n",
      "  72 rows were strict outliers, set to np.nan\n",
      "  0 rows were low valid outliers, set to 0.00\n",
      "  11 rows were high valid outliers, set to 20.00\n",
      "\n"
     ]
    },
    {
     "name": "stderr",
     "output_type": "stream",
     "text": [
      "\r",
      " 38%|███▊      | 40/104 [09:47<12:34, 11.78s/it]"
     ]
    },
    {
     "name": "stdout",
     "output_type": "stream",
     "text": [
      "White blood cell count had 4 / 932945 rows cleaned:\n",
      "  4 rows were strict outliers, set to np.nan\n",
      "  0 rows were low valid outliers, set to 0.00\n",
      "  0 rows were high valid outliers, set to 1000.00\n",
      "\n"
     ]
    },
    {
     "name": "stderr",
     "output_type": "stream",
     "text": [
      "\r",
      " 39%|███▉      | 41/104 [10:21<15:17, 14.57s/it]"
     ]
    },
    {
     "name": "stdout",
     "output_type": "stream",
     "text": [
      "Partial pressure of oxygen had 238 / 261446 rows cleaned:\n",
      "  0 rows were strict outliers, set to np.nan\n",
      "  238 rows were low valid outliers, set to 32.00\n",
      "  0 rows were high valid outliers, set to 700.00\n",
      "\n",
      "No known ranges for Total Protein\n",
      "No known ranges for Total Protein Urine\n"
     ]
    },
    {
     "name": "stderr",
     "output_type": "stream",
     "text": [
      "\r",
      " 42%|████▏     | 44/104 [10:55<13:26, 13.44s/it]"
     ]
    },
    {
     "name": "stdout",
     "output_type": "stream",
     "text": [
      "Troponin-I had 8 / 5767 rows cleaned:\n",
      "  0 rows were strict outliers, set to np.nan\n",
      "  1 rows were low valid outliers, set to 0.01\n",
      "  7 rows were high valid outliers, set to 49.60\n",
      "\n"
     ]
    },
    {
     "name": "stderr",
     "output_type": "stream",
     "text": [
      "\r",
      " 43%|████▎     | 45/104 [11:30<16:13, 16.50s/it]"
     ]
    },
    {
     "name": "stdout",
     "output_type": "stream",
     "text": [
      "Potassium had 86 / 1164316 rows cleaned:\n",
      "  57 rows were strict outliers, set to np.nan\n",
      "  0 rows were low valid outliers, set to 0.00\n",
      "  29 rows were high valid outliers, set to 12.00\n",
      "\n",
      "No known ranges for Monocytes CSL\n"
     ]
    },
    {
     "name": "stderr",
     "output_type": "stream",
     "text": [
      "\r",
      " 45%|████▌     | 47/104 [12:04<15:52, 16.71s/it]"
     ]
    },
    {
     "name": "stdout",
     "output_type": "stream",
     "text": [
      "Albumin had 19 / 131516 rows cleaned:\n",
      "  1 rows were strict outliers, set to np.nan\n",
      "  0 rows were low valid outliers, set to 0.60\n",
      "  18 rows were high valid outliers, set to 6.00\n",
      "\n",
      "No known ranges for Central Venous Pressure\n",
      "No known ranges for Calcium ionized\n",
      "No known ranges for Lymphocytes percent\n",
      "No known ranges for Pulmonary Capillary Wedge Pressure\n",
      "No known ranges for Pulmonary Artery Pressure systolic\n",
      "No known ranges for Creatinine pleural\n"
     ]
    },
    {
     "name": "stderr",
     "output_type": "stream",
     "text": [
      "\r",
      " 52%|█████▏    | 54/104 [12:39<08:05,  9.71s/it]"
     ]
    },
    {
     "name": "stdout",
     "output_type": "stream",
     "text": [
      "Troponin-T had 88 / 60875 rows cleaned:\n",
      "  24 rows were strict outliers, set to np.nan\n",
      "  5 rows were low valid outliers, set to 0.01\n",
      "  59 rows were high valid outliers, set to 20.85\n",
      "\n"
     ]
    },
    {
     "name": "stderr",
     "output_type": "stream",
     "text": [
      "\r",
      " 53%|█████▎    | 55/104 [13:13<10:06, 12.39s/it]"
     ]
    },
    {
     "name": "stdout",
     "output_type": "stream",
     "text": [
      "Cholesterol had 18 / 9429 rows cleaned:\n",
      "  5 rows were strict outliers, set to np.nan\n",
      "  11 rows were low valid outliers, set to 32.00\n",
      "  2 rows were high valid outliers, set to 600.00\n",
      "\n",
      "No known ranges for Albumin pleural\n",
      "No known ranges for Cardiac Output fick\n",
      "No known ranges for Phosphorous\n",
      "No known ranges for CO2 (ETCO2, PCO2, etc.)\n",
      "No known ranges for Cardiac Index\n",
      "No known ranges for Lymphocytes atypical\n"
     ]
    },
    {
     "name": "stderr",
     "output_type": "stream",
     "text": [
      "\r",
      " 60%|█████▉    | 62/104 [13:48<05:59,  8.55s/it]"
     ]
    },
    {
     "name": "stdout",
     "output_type": "stream",
     "text": [
      "Bicarbonate had 8 / 525206 rows cleaned:\n",
      "  7 rows were strict outliers, set to np.nan\n",
      "  0 rows were low valid outliers, set to 0.00\n",
      "  1 rows were high valid outliers, set to 60.00\n",
      "\n"
     ]
    },
    {
     "name": "stderr",
     "output_type": "stream",
     "text": [
      "\r",
      " 61%|██████    | 63/104 [14:23<07:32, 11.04s/it]"
     ]
    },
    {
     "name": "stdout",
     "output_type": "stream",
     "text": [
      "Bilirubin had 1020 / 307546 rows cleaned:\n",
      "  63 rows were strict outliers, set to np.nan\n",
      "  876 rows were low valid outliers, set to 0.10\n",
      "  81 rows were high valid outliers, set to 60.00\n",
      "\n",
      "No known ranges for Potassium serum\n"
     ]
    },
    {
     "name": "stderr",
     "output_type": "stream",
     "text": [
      "\r",
      " 62%|██████▎   | 65/104 [14:57<08:00, 12.33s/it]"
     ]
    },
    {
     "name": "stdout",
     "output_type": "stream",
     "text": [
      "Chloride had 38 / 919783 rows cleaned:\n",
      "  3 rows were strict outliers, set to np.nan\n",
      "  32 rows were low valid outliers, set to 50.00\n",
      "  3 rows were high valid outliers, set to 175.00\n",
      "\n"
     ]
    },
    {
     "name": "stderr",
     "output_type": "stream",
     "text": [
      "\r",
      " 63%|██████▎   | 66/104 [15:31<09:40, 15.28s/it]"
     ]
    },
    {
     "name": "stdout",
     "output_type": "stream",
     "text": [
      "Partial thromboplastin time had 578 / 601993 rows cleaned:\n",
      "  14 rows were strict outliers, set to np.nan\n",
      "  564 rows were low valid outliers, set to 18.80\n",
      "  0 rows were high valid outliers, set to 150.00\n",
      "\n",
      "No known ranges for Red blood cell count\n",
      "No known ranges for Red blood cell count pleural\n",
      "No known ranges for Lymphocytes atypical CSL\n"
     ]
    },
    {
     "name": "stderr",
     "output_type": "stream",
     "text": [
      "\r",
      " 67%|██████▋   | 70/104 [16:05<07:00, 12.36s/it]"
     ]
    },
    {
     "name": "stdout",
     "output_type": "stream",
     "text": [
      "Heart Rate had 13 / 7877680 rows cleaned:\n",
      "  13 rows were strict outliers, set to np.nan\n",
      "  0 rows were low valid outliers, set to 0.00\n",
      "  0 rows were high valid outliers, set to 350.00\n",
      "\n"
     ]
    },
    {
     "name": "stderr",
     "output_type": "stream",
     "text": [
      "\r",
      " 68%|██████▊   | 71/104 [16:39<08:21, 15.20s/it]"
     ]
    },
    {
     "name": "stdout",
     "output_type": "stream",
     "text": [
      "Lactate had 72 / 161807 rows cleaned:\n",
      "  1 rows were strict outliers, set to np.nan\n",
      "  69 rows were low valid outliers, set to 0.40\n",
      "  2 rows were high valid outliers, set to 30.00\n",
      "\n",
      "No known ranges for CO2\n"
     ]
    },
    {
     "name": "stderr",
     "output_type": "stream",
     "text": [
      "\r",
      " 70%|███████   | 73/104 [17:13<08:07, 15.74s/it]"
     ]
    },
    {
     "name": "stdout",
     "output_type": "stream",
     "text": [
      "Platelets had 5 / 666006 rows cleaned:\n",
      "  3 rows were strict outliers, set to np.nan\n",
      "  0 rows were low valid outliers, set to 0.00\n",
      "  2 rows were high valid outliers, set to 2000.00\n",
      "\n"
     ]
    },
    {
     "name": "stderr",
     "output_type": "stream",
     "text": [
      "\r",
      " 71%|███████   | 74/104 [17:47<09:23, 18.78s/it]"
     ]
    },
    {
     "name": "stdout",
     "output_type": "stream",
     "text": [
      "Respiratory rate had 78 / 9265343 rows cleaned:\n",
      "  72 rows were strict outliers, set to np.nan\n",
      "  0 rows were low valid outliers, set to 0.00\n",
      "  6 rows were high valid outliers, set to 300.00\n",
      "\n"
     ]
    },
    {
     "name": "stderr",
     "output_type": "stream",
     "text": [
      "\r",
      " 72%|███████▏  | 75/104 [18:22<10:33, 21.84s/it]"
     ]
    },
    {
     "name": "stdout",
     "output_type": "stream",
     "text": [
      "Hematocrit had 13 / 920980 rows cleaned:\n",
      "  12 rows were strict outliers, set to np.nan\n",
      "  0 rows were low valid outliers, set to 0.00\n",
      "  1 rows were high valid outliers, set to 75.00\n",
      "\n"
     ]
    },
    {
     "name": "stderr",
     "output_type": "stream",
     "text": [
      "\r",
      " 73%|███████▎  | 76/104 [18:56<11:25, 24.48s/it]"
     ]
    },
    {
     "name": "stdout",
     "output_type": "stream",
     "text": [
      "Anion gap had 447 / 506123 rows cleaned:\n",
      "  24 rows were strict outliers, set to np.nan\n",
      "  393 rows were low valid outliers, set to 5.00\n",
      "  30 rows were high valid outliers, set to 50.00\n",
      "\n",
      "No known ranges for Venous PvO2\n",
      "No known ranges for Fraction inspired oxygen Set\n"
     ]
    },
    {
     "name": "stderr",
     "output_type": "stream",
     "text": [
      "\r",
      " 76%|███████▌  | 79/104 [19:32<07:40, 18.43s/it]"
     ]
    },
    {
     "name": "stdout",
     "output_type": "stream",
     "text": [
      "Glucose had 1663 / 2063957 rows cleaned:\n",
      "  23 rows were strict outliers, set to np.nan\n",
      "  1640 rows were low valid outliers, set to 33.00\n",
      "  0 rows were high valid outliers, set to 2000.00\n",
      "\n",
      "No known ranges for Lymphocytes body fluid\n",
      "No known ranges for Tidal Volume Set\n",
      "No known ranges for Systemic Vascular Resistance\n"
     ]
    },
    {
     "name": "stderr",
     "output_type": "stream",
     "text": [
      "\r",
      " 80%|███████▉  | 83/104 [20:09<04:54, 14.04s/it]"
     ]
    },
    {
     "name": "stdout",
     "output_type": "stream",
     "text": [
      "Diastolic blood pressure had 256 / 6300007 rows cleaned:\n",
      "  256 rows were strict outliers, set to np.nan\n",
      "  0 rows were low valid outliers, set to 0.00\n",
      "  0 rows were high valid outliers, set to 375.00\n",
      "\n",
      "No known ranges for Plateau Pressure\n",
      "No known ranges for Tidal Volume Spontaneous\n",
      "No known ranges for Monocytes\n",
      "No known ranges for Lactic acid\n",
      "No known ranges for Mean corpuscular hemoglobin concentration\n",
      "No known ranges for Red blood cell count urine\n",
      "No known ranges for Cardiac Output Thermodilution\n"
     ]
    },
    {
     "name": "stderr",
     "output_type": "stream",
     "text": [
      "\r",
      " 88%|████████▊ | 91/104 [20:43<01:49,  8.44s/it]"
     ]
    },
    {
     "name": "stdout",
     "output_type": "stream",
     "text": [
      "Lactate dehydrogenase had 18 / 46758 rows cleaned:\n",
      "  7 rows were strict outliers, set to np.nan\n",
      "  10 rows were low valid outliers, set to 54.00\n",
      "  1 rows were high valid outliers, set to 33000.00\n",
      "\n"
     ]
    },
    {
     "name": "stderr",
     "output_type": "stream",
     "text": [
      "\r",
      " 88%|████████▊ | 92/104 [21:19<02:11, 10.94s/it]"
     ]
    },
    {
     "name": "stdout",
     "output_type": "stream",
     "text": [
      "Phosphate had 76 / 296663 rows cleaned:\n",
      "  12 rows were strict outliers, set to np.nan\n",
      "  61 rows were low valid outliers, set to 0.50\n",
      "  3 rows were high valid outliers, set to 20.00\n",
      "\n",
      "No known ranges for Lymphocytes\n"
     ]
    },
    {
     "name": "stderr",
     "output_type": "stream",
     "text": [
      "\r",
      " 90%|█████████ | 94/104 [21:55<02:05, 12.52s/it]"
     ]
    },
    {
     "name": "stdout",
     "output_type": "stream",
     "text": [
      "Alkaline phosphate had 215 / 158363 rows cleaned:\n",
      "  15 rows were strict outliers, set to np.nan\n",
      "  193 rows were low valid outliers, set to 20.00\n",
      "  7 rows were high valid outliers, set to 3625.00\n",
      "\n",
      "No known ranges for Cholesterol LDL\n"
     ]
    },
    {
     "name": "stderr",
     "output_type": "stream",
     "text": [
      "\r",
      " 92%|█████████▏| 96/104 [22:38<01:56, 14.56s/it]"
     ]
    },
    {
     "name": "stdout",
     "output_type": "stream",
     "text": [
      "Mean blood pressure had 5836 / 6298964 rows cleaned:\n",
      "  1304 rows were strict outliers, set to np.nan\n",
      "  4030 rows were low valid outliers, set to 14.00\n",
      "  502 rows were high valid outliers, set to 330.00\n",
      "\n"
     ]
    },
    {
     "name": "stderr",
     "output_type": "stream",
     "text": [
      "\r",
      " 93%|█████████▎| 97/104 [23:14<02:03, 17.59s/it]"
     ]
    },
    {
     "name": "stdout",
     "output_type": "stream",
     "text": [
      "pH had 227 / 1221205 rows cleaned:\n",
      "  215 rows were strict outliers, set to np.nan\n",
      "  0 rows were low valid outliers, set to 6.30\n",
      "  12 rows were high valid outliers, set to 8.40\n",
      "\n",
      "No known ranges for Calcium urine\n",
      "No known ranges for Lymphocytes pleural\n",
      "No known ranges for Creatinine body fluid\n"
     ]
    },
    {
     "name": "stderr",
     "output_type": "stream",
     "text": [
      "100%|██████████| 104/104 [23:50<00:00, 13.75s/it]"
     ]
    },
    {
     "name": "stdout",
     "output_type": "stream",
     "text": [
      "Blood urea nitrogen had 36 / 846919 rows cleaned:\n",
      "  3 rows were strict outliers, set to np.nan\n",
      "  0 rows were low valid outliers, set to 0.00\n",
      "  33 rows were high valid outliers, set to 250.00\n",
      "\n",
      "No known ranges for Pulmonary Artery Pressure mean\n",
      "No known ranges for Calcium\n",
      "No known ranges for White blood cell count urine\n"
     ]
    },
    {
     "name": "stderr",
     "output_type": "stream",
     "text": [
      "\n"
     ]
    }
   ],
   "source": [
    "chart_lab_icu_lmits = apply_variable_limits(chart_lab_icu_drop_level2na, var_ranges, 'LEVEL2')"
   ]
  },
  {
   "cell_type": "code",
   "execution_count": 19,
   "metadata": {},
   "outputs": [],
   "source": [
    "t=chart_lab_icu_lmits[chart_lab_icu_lmits['hours_in']<=23] # check only 24 hours in lab items\n",
    "t=t[['subject_id','hadm_id','value','hours_in']]"
   ]
  },
  {
   "cell_type": "code",
   "execution_count": 20,
   "metadata": {},
   "outputs": [],
   "source": [
    "group_item_cols = ['LEVEL2']\n",
    "t_groups = t.groupby(ID_COLS+group_item_cols+['hours_in']).agg(['mean','std','count'])\n",
    "t_groups.columns = t_groups.columns.droplevel(0)\n",
    "t_groups.columns.names = ['Aggregation Function']\n",
    "t_groups=t_groups.unstack(level='LEVEL2')"
   ]
  },
  {
   "cell_type": "code",
   "execution_count": 21,
   "metadata": {},
   "outputs": [
    {
     "name": "stdout",
     "output_type": "stream",
     "text": [
      "Shape of X :  (1265946, 312)\n"
     ]
    }
   ],
   "source": [
    "t_groups.columns = t_groups.columns.reorder_levels(order=group_item_cols + ['Aggregation Function'])\n",
    "\n",
    "t_groups=t_groups.sort_index(axis=0).sort_index(axis=1)\n",
    "idx = pd.IndexSlice\n",
    "t_groups.loc[:, idx[:, 'count']] = t_groups.loc[:, idx[:, 'count']].fillna(0)\n",
    "\n",
    "\n",
    "print(\"Shape of X : \", t_groups.shape) # in 24 hours\n"
   ]
  },
  {
   "cell_type": "code",
   "execution_count": 23,
   "metadata": {},
   "outputs": [],
   "source": [
    "temp_check= t_groups.reset_index()"
   ]
  },
  {
   "cell_type": "code",
   "execution_count": 24,
   "metadata": {},
   "outputs": [
    {
     "data": {
      "text/plain": [
       "46212"
      ]
     },
     "execution_count": 24,
     "metadata": {},
     "output_type": "execute_result"
    }
   ],
   "source": [
    "len(temp_check['subject_id'].unique())"
   ]
  },
  {
   "cell_type": "code",
   "execution_count": 25,
   "metadata": {},
   "outputs": [
    {
     "name": "stderr",
     "output_type": "stream",
     "text": [
      "/home/sanghoon/.local/lib/python3.7/site-packages/tables/attributeset.py:459: NaturalNameWarning: object name is not a valid Python identifier: 'axis0_nameAggregation Function'; it does not match the pattern ``^[a-zA-Z_][a-zA-Z0-9_]*$``; you will not be able to use natural naming to access this object; using ``getattr()`` will still work, though\n",
      "  check_attribute_name(name)\n",
      "/home/sanghoon/.local/lib/python3.7/site-packages/tables/attributeset.py:459: NaturalNameWarning: object name is not a valid Python identifier: 'block0_items_nameAggregation Function'; it does not match the pattern ``^[a-zA-Z_][a-zA-Z0-9_]*$``; you will not be able to use natural naming to access this object; using ``getattr()`` will still work, though\n",
      "  check_attribute_name(name)\n"
     ]
    }
   ],
   "source": [
    "t_groups.to_hdf(save_path+'/vitals_24hourly_data_sh.h5','X')"
   ]
  },
  {
   "cell_type": "markdown",
   "metadata": {},
   "source": [
    "# make label"
   ]
  },
  {
   "cell_type": "code",
   "execution_count": 26,
   "metadata": {},
   "outputs": [],
   "source": [
    "del data_dict['icustays']['ROW_ID']\n",
    "del data_dict['admissions']['ROW_ID']\n",
    "concat_label=data_dict['icustays'].merge(data_dict['admissions'], 'left', on=['HADM_ID','SUBJECT_ID'])\n",
    "concat_label['INTIME'] = pd.to_datetime(concat_label['INTIME'])\n",
    "concat_label['OUTTIME'] = pd.to_datetime(concat_label['OUTTIME'])\n",
    "concat_label['ADMITTIME'] = pd.to_datetime(concat_label['ADMITTIME'])\n",
    "concat_label['DISCHTIME'] = pd.to_datetime(concat_label['DISCHTIME'])\n",
    "concat_label['DEATHTIME'] = pd.to_datetime(concat_label['DEATHTIME'])\n",
    "\n",
    "concat_label['mort_icu']= list(map(lambda x : 1 if x[0]<=x[2]<=x[1] else 0,concat_label[['INTIME','OUTTIME','DEATHTIME']].values))\n",
    "concat_label['mort_hosp']= list(map(lambda x : 1 if x[0]<=x[2]<=x[1] else 0,concat_label[['ADMITTIME','DISCHTIME','DEATHTIME']].values))\n",
    "\n",
    "concat_label.columns = list(map(lambda x : x.lower(), concat_label.columns))\n",
    "concat_label['max_hours']=(concat_label['outtime']-concat_label['intime']).apply(to_hours)"
   ]
  },
  {
   "cell_type": "code",
   "execution_count": 27,
   "metadata": {},
   "outputs": [],
   "source": [
    "idx_have_ts=temp_check.icustay_id.unique()"
   ]
  },
  {
   "cell_type": "code",
   "execution_count": 28,
   "metadata": {
    "scrolled": true
   },
   "outputs": [],
   "source": [
    "concat_label_ts=concat_label[concat_label['icustay_id'].isin(idx_have_ts)]"
   ]
  },
  {
   "cell_type": "code",
   "execution_count": 29,
   "metadata": {},
   "outputs": [],
   "source": [
    "concat_label_ts[['subject_id','hadm_id','icustay_id','max_hours','mort_icu','mort_hosp','los']].to_csv(save_path + '/label_have_ts_los.csv')"
   ]
  },
  {
   "cell_type": "markdown",
   "metadata": {},
   "source": [
    "# make note"
   ]
  },
  {
   "cell_type": "code",
   "execution_count": 31,
   "metadata": {},
   "outputs": [
    {
     "name": "stderr",
     "output_type": "stream",
     "text": [
      "/home/sanghoon/.conda/envs/rdkit_env/lib/python3.7/site-packages/IPython/core/interactiveshell.py:3437: DtypeWarning: Columns (4,5) have mixed types.Specify dtype option on import or set low_memory=False.\n",
      "  exec(code_obj, self.user_global_ns, self.user_ns)\n"
     ]
    }
   ],
   "source": [
    "DATAPATH = mimic_path \n",
    "noteevents_df = pd.read_csv(os.path.join(DATAPATH, \"NOTEEVENTS.csv\"))\n"
   ]
  },
  {
   "cell_type": "code",
   "execution_count": 33,
   "metadata": {},
   "outputs": [
    {
     "name": "stderr",
     "output_type": "stream",
     "text": [
      "100%|██████████| 15/15 [00:00<00:00, 222312.93it/s]\n"
     ]
    },
    {
     "data": {
      "text/plain": [
       "(2023528, 11)"
      ]
     },
     "execution_count": 33,
     "metadata": {},
     "output_type": "execute_result"
    }
   ],
   "source": [
    "noteevents_df.groupby(noteevents_df.CATEGORY).agg(['count'])\n",
    "note_categories = noteevents_df.groupby(noteevents_df.CATEGORY).agg(['count']).index\n",
    "selected_note_types = []\n",
    "for each_cat in tqdm.tqdm(list(note_categories)):\n",
    "    if each_cat != 'Discharge summary':\n",
    "        selected_note_types.append(each_cat)\n",
    "        \n",
    "sub_notes = noteevents_df[noteevents_df.CATEGORY.isin(selected_note_types)]\n",
    "sub_notes.shape"
   ]
  },
  {
   "cell_type": "code",
   "execution_count": 34,
   "metadata": {
    "scrolled": true
   },
   "outputs": [
    {
     "name": "stderr",
     "output_type": "stream",
     "text": [
      "2023528it [00:04, 453457.22it/s]"
     ]
    },
    {
     "name": "stdout",
     "output_type": "stream",
     "text": [
      "256914 of notes does not charttime.\n",
      "(2023528, 11)\n"
     ]
    },
    {
     "name": "stderr",
     "output_type": "stream",
     "text": [
      "\n"
     ]
    }
   ],
   "source": [
    "missing_chardate_index = []\n",
    "for each_note in tqdm.tqdm(sub_notes.itertuples()):\n",
    "    if isinstance(each_note.CHARTTIME, str):\n",
    "        continue\n",
    "    if np.isnan(each_note.CHARTTIME):\n",
    "        missing_chardate_index.append(each_note.Index)\n",
    "print (\"{} of notes does not charttime.\".format(len(missing_chardate_index)))\n",
    "print(sub_notes.shape)"
   ]
  },
  {
   "cell_type": "code",
   "execution_count": 35,
   "metadata": {
    "scrolled": true
   },
   "outputs": [
    {
     "name": "stdout",
     "output_type": "stream",
     "text": [
      "(1766614, 11)\n"
     ]
    },
    {
     "name": "stderr",
     "output_type": "stream",
     "text": [
      "/home/sanghoon/.conda/envs/rdkit_env/lib/python3.7/site-packages/pandas/core/frame.py:4913: SettingWithCopyWarning: \n",
      "A value is trying to be set on a copy of a slice from a DataFrame\n",
      "\n",
      "See the caveats in the documentation: https://pandas.pydata.org/pandas-docs/stable/user_guide/indexing.html#returning-a-view-versus-a-copy\n",
      "  errors=errors,\n"
     ]
    }
   ],
   "source": [
    "sub_notes.drop(missing_chardate_index, inplace=True )\n",
    "print(sub_notes.shape)"
   ]
  },
  {
   "cell_type": "code",
   "execution_count": 36,
   "metadata": {},
   "outputs": [
    {
     "data": {
      "text/plain": [
       "((1764915, 11), 44845)"
      ]
     },
     "execution_count": 36,
     "metadata": {},
     "output_type": "execute_result"
    }
   ],
   "source": [
    "sub_notes_have_ts=sub_notes[sub_notes.SUBJECT_ID.isin(concat_label_ts.subject_id.unique())]\n",
    "sub_notes_have_ts.shape , len(sub_notes_have_ts.SUBJECT_ID.unique())"
   ]
  },
  {
   "cell_type": "code",
   "execution_count": 37,
   "metadata": {},
   "outputs": [],
   "source": [
    "have_notes_ids=sub_notes_have_ts.SUBJECT_ID.unique()"
   ]
  },
  {
   "cell_type": "code",
   "execution_count": 38,
   "metadata": {},
   "outputs": [],
   "source": [
    "sub_notes_have_ts.to_csv(save_path+'/sub_note.csv',index=False)"
   ]
  },
  {
   "cell_type": "code",
   "execution_count": null,
   "metadata": {
    "scrolled": true
   },
   "outputs": [],
   "source": []
  },
  {
   "cell_type": "code",
   "execution_count": null,
   "metadata": {},
   "outputs": [],
   "source": []
  }
 ],
 "metadata": {
  "kernelspec": {
   "display_name": "rdkit",
   "language": "python",
   "name": "rdkit_env"
  },
  "language_info": {
   "codemirror_mode": {
    "name": "ipython",
    "version": 3
   },
   "file_extension": ".py",
   "mimetype": "text/x-python",
   "name": "python",
   "nbconvert_exporter": "python",
   "pygments_lexer": "ipython3",
   "version": "3.7.10"
  }
 },
 "nbformat": 4,
 "nbformat_minor": 2
}
