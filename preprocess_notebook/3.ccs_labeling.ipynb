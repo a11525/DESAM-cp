{
 "cells": [
  {
   "cell_type": "code",
   "execution_count": 13,
   "metadata": {},
   "outputs": [],
   "source": [
    "import pandas as pd\n",
    "import json\n",
    "import os\n",
    "import numpy as np\n",
    "import ast\n",
    "import tqdm"
   ]
  },
  {
   "cell_type": "code",
   "execution_count": 4,
   "metadata": {},
   "outputs": [],
   "source": [
    "data_path = '/ssd2/sanghoon/data/EHR/mimic3/mimic_extract/sh_pre_los100/24h_6g/'\n",
    "mimic_path='/ssd2/sanghoon/data/EHR/mimic3/mimic3/'\n",
    "patitentTM_preprocessing_path='/home/sanghoon/drug/project/EHR/PatientTM/data/extended/preprocessing/'\n",
    "labels=pd.read_csv(data_path+'label_last_visit.csv')\n",
    "max_len_text_r =pd.read_pickle(data_path+'for_bert_text.pkl')"
   ]
  },
  {
   "cell_type": "code",
   "execution_count": 5,
   "metadata": {},
   "outputs": [],
   "source": [
    "drg_code = pd.read_csv(mimic_path+'DRGCODES.csv')\n",
    "ccs_code = pd.read_json(patitentTM_preprocessing_path+'ICDandCCSmappings/merged_icdccs_codes.json', typ='series')\n",
    "ccs_code=ccs_code.reset_index()\n",
    "diag=pd.read_csv(mimic_path+'DIAGNOSES_ICD.csv')"
   ]
  },
  {
   "cell_type": "code",
   "execution_count": 6,
   "metadata": {},
   "outputs": [],
   "source": [
    "diag=diag[diag['HADM_ID'].isin(labels['hadm_id'].unique())]\n",
    "pre_data=pd.read_csv('/ssd2/sanghoon/data/EHR/MP_EHR/preprocessed.csv')\n",
    "labels=labels[labels['have_note']==1]\n",
    "pre_data=pre_data[pre_data['HADM_ID'].isin(labels['hadm_id'])]\n"
   ]
  },
  {
   "cell_type": "code",
   "execution_count": 7,
   "metadata": {},
   "outputs": [],
   "source": [
    "all_diag_ccs = pre_data['DIAG_CCS'].apply(lambda x: ast.literal_eval(x))"
   ]
  },
  {
   "cell_type": "code",
   "execution_count": 8,
   "metadata": {},
   "outputs": [],
   "source": [
    "all_d_label = list(set(np.concatenate(all_diag_ccs.values)))"
   ]
  },
  {
   "cell_type": "code",
   "execution_count": 10,
   "metadata": {},
   "outputs": [
    {
     "data": {
      "text/plain": [
       "251"
      ]
     },
     "execution_count": 10,
     "metadata": {},
     "output_type": "execute_result"
    }
   ],
   "source": [
    "d_ccs_label_dict=dict(zip(all_d_label, [i for i in range(len(all_d_label))]))\n",
    "len(d_ccs_label_dict)"
   ]
  },
  {
   "cell_type": "code",
   "execution_count": 11,
   "metadata": {},
   "outputs": [],
   "source": [
    "def  make_label_idx_list(t):\n",
    "    \n",
    "    return list(map(lambda x: d_ccs_label_dict[x],t))"
   ]
  },
  {
   "cell_type": "code",
   "execution_count": 14,
   "metadata": {},
   "outputs": [
    {
     "name": "stderr",
     "output_type": "stream",
     "text": [
      "100%|█████████████████████████████████████████████████████████████████| 30060/30060 [00:02<00:00, 13877.02it/s]\n"
     ]
    }
   ],
   "source": [
    "label_dict={}\n",
    "for i in tqdm.tqdm(range(len(pre_data))):\n",
    "    key = pre_data.iloc[i]['HADM_ID']\n",
    "    label_t = list(map(lambda x : d_ccs_label_dict[x] ,all_diag_ccs.iloc[i]))\n",
    "    temp_label=np.zeros([1,len(d_ccs_label_dict)])\n",
    "    temp_label[0][label_t]=1\n",
    "    label_dict[key]=temp_label\n",
    "    "
   ]
  },
  {
   "cell_type": "code",
   "execution_count": null,
   "metadata": {},
   "outputs": [],
   "source": [
    "pd.to_pickle(label_dict, data_path+'/ccs_label.pkl')"
   ]
  }
 ],
 "metadata": {
  "kernelspec": {
   "display_name": "rdkit_env",
   "language": "python",
   "name": "rdkit_env"
  },
  "language_info": {
   "codemirror_mode": {
    "name": "ipython",
    "version": 3
   },
   "file_extension": ".py",
   "mimetype": "text/x-python",
   "name": "python",
   "nbconvert_exporter": "python",
   "pygments_lexer": "ipython3",
   "version": "3.9.7"
  }
 },
 "nbformat": 4,
 "nbformat_minor": 2
}
